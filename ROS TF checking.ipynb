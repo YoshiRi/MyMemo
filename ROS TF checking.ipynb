{
 "cells": [
  {
   "cell_type": "markdown",
   "metadata": {},
   "source": [
    "# ROS TF study\n",
    "\n",
    "ROSを用いてTFを使いこなす練習台。\n",
    "\n",
    "## 参考になる文献\n",
    "\n",
    "公式度が高いものほど上に記述する。なるべく日本語文献をチョイスする。\n",
    "\n",
    "- [TF tutorial for Pyton](http://wiki.ros.org/tf/TfUsingPython)\n",
    "- [Python版TFパッケージのドキュメント（古い可能性有り）](http://docs.ros.org/jade/api/tf/html/python/tf_python.html)\n",
    "- [TFによる座標変換 解説と演習](https://industrial-training-jp.readthedocs.io/ja/latest/_source/session3_JP/Coordinate-Transforms-using-TF_JP.html)\n",
    "- [公式・非公式の壁]()\n",
    "- [Slideshare TF完全解説](https://www.slideshare.net/kojiterada5/tftf2)\n",
    "\n",
    "どれを読んでも良いが手っ取り早く全体像を把握したいなら，[Slideshare TF完全解説](https://www.slideshare.net/kojiterada5/tftf2)がわかりやすいと思う。\n"
   ]
  },
  {
   "cell_type": "code",
   "execution_count": 2,
   "metadata": {},
   "outputs": [],
   "source": [
    "# 使いそうなパッケージ\n",
    "import rospy\n",
    "import geometry_msgs.msg\n",
    "import tf\n",
    "import tf2_ros"
   ]
  },
  {
   "cell_type": "markdown",
   "metadata": {},
   "source": [
    "# 1. TF Transformer Training\n",
    "\n",
    "- 補間や変形に使う強力なツール，`tf.Transformer`を試す。\n",
    "  - 一部  http://docs.ros.org/jade/api/tf/html/python/tf_python.html を参照。\n",
    "\n",
    "\n",
    "```python\n",
    "class tf.Transformer(interpolating, cache_time = rospy.Duration(10))\n",
    "```\n",
    "\n",
    "    - interpolatingは補完をするかどうか。基本True。\n",
    "    - chache_timeは過去のTransformをどれだけ長く保持するか。"
   ]
  },
  {
   "cell_type": "code",
   "execution_count": 3,
   "metadata": {},
   "outputs": [
    {
     "data": {
      "text/plain": [
       "[]"
      ]
     },
     "execution_count": 3,
     "metadata": {},
     "output_type": "execute_result"
    }
   ],
   "source": [
    "# TFを作成\n",
    "t = tf.Transformer(True, rospy.Duration(10.0))\n",
    "t.getFrameStrings()"
   ]
  },
  {
   "cell_type": "code",
   "execution_count": 4,
   "metadata": {
    "scrolled": true
   },
   "outputs": [
    {
     "name": "stdout",
     "output_type": "stream",
     "text": [
      "header: \n",
      "  seq: 0\n",
      "  stamp: \n",
      "    secs: 0\n",
      "    nsecs:         0\n",
      "  frame_id: ''\n",
      "child_frame_id: ''\n",
      "transform: \n",
      "  translation: \n",
      "    x: 0.0\n",
      "    y: 0.0\n",
      "    z: 0.0\n",
      "  rotation: \n",
      "    x: 0.0\n",
      "    y: 0.0\n",
      "    z: 0.0\n",
      "    w: 0.0\n"
     ]
    }
   ],
   "source": [
    "# 空のTransformを作成\n",
    "m = geometry_msgs.msg.TransformStamped()\n",
    "print(m)"
   ]
  },
  {
   "cell_type": "code",
   "execution_count": 5,
   "metadata": {
    "scrolled": false
   },
   "outputs": [
    {
     "name": "stdout",
     "output_type": "stream",
     "text": [
      "header: \n",
      "  seq: 0\n",
      "  stamp: \n",
      "    secs: 0\n",
      "    nsecs:         0\n",
      "  frame_id: \"THISFRAME\"\n",
      "child_frame_id: \"CHILD\"\n",
      "transform: \n",
      "  translation: \n",
      "    x: 2.71828183\n",
      "    y: 0.0\n",
      "    z: 0.0\n",
      "  rotation: \n",
      "    x: 0.0\n",
      "    y: 0.0\n",
      "    z: 0.0\n",
      "    w: 1.0\n"
     ]
    },
    {
     "data": {
      "text/plain": [
       "['CHILD']"
      ]
     },
     "execution_count": 5,
     "metadata": {},
     "output_type": "execute_result"
    }
   ],
   "source": [
    "# Transformに値を詰めていく\n",
    "m.header.frame_id = 'THISFRAME'\n",
    "m.child_frame_id = 'CHILD'\n",
    "m.transform.translation.x = 2.71828183\n",
    "m.transform.rotation.w = 1.0 # これを入れないと無効なクォータニオンになってしまう。\n",
    "print(m)\n",
    "\n",
    "# TfにTransformを詰める\n",
    "t.setTransform(m)\n",
    "t.getFrameStrings() # ちょっと結果違う？"
   ]
  },
  {
   "cell_type": "markdown",
   "metadata": {},
   "source": [
    "## 1-1 `lookupTransform`：位置の参照と補間\n",
    "\n",
    "- 時間と位置を指定して変形を取得 `lookupTransform`\n",
    "- 未来の時間を指定するとエラーが出る\n",
    "- 複数のTransformをSetすると補間ができる。"
   ]
  },
  {
   "cell_type": "code",
   "execution_count": 6,
   "metadata": {},
   "outputs": [
    {
     "data": {
      "text/plain": [
       "([2.71828183, 0.0, 0.0], [0.0, 0.0, 0.0, 1.0])"
      ]
     },
     "execution_count": 6,
     "metadata": {},
     "output_type": "execute_result"
    }
   ],
   "source": [
    "# 時間0（現在）における位置。\n",
    "t.lookupTransform('THISFRAME', 'CHILD', rospy.Time(0))"
   ]
  },
  {
   "cell_type": "code",
   "execution_count": 7,
   "metadata": {},
   "outputs": [
    {
     "data": {
      "text/plain": [
       "([-2.71828183, 0.0, 0.0], [0.0, 0.0, 0.0, 1.0])"
      ]
     },
     "execution_count": 7,
     "metadata": {},
     "output_type": "execute_result"
    }
   ],
   "source": [
    "# 時間0（現在）における位置。ただし反転版\n",
    "t.lookupTransform( 'CHILD','THISFRAME', rospy.Time(0))"
   ]
  },
  {
   "cell_type": "code",
   "execution_count": 16,
   "metadata": {
    "scrolled": true
   },
   "outputs": [
    {
     "ename": "ExtrapolationException",
     "evalue": "Lookup would require extrapolation into the future.  Requested time 1.000000000 but the latest data is at time 0.000000000, when looking up transform from frame [CHILD] to frame [THISFRAME]",
     "output_type": "error",
     "traceback": [
      "\u001b[0;31m---------------------------------------------------------------------------\u001b[0m",
      "\u001b[0;31mExtrapolationException\u001b[0m                    Traceback (most recent call last)",
      "\u001b[0;32m<ipython-input-16-586e71bbab84>\u001b[0m in \u001b[0;36m<module>\u001b[0;34m()\u001b[0m\n\u001b[1;32m      1\u001b[0m \u001b[0;31m# 時間1（未来時間）における位置。\u001b[0m\u001b[0;34m\u001b[0m\u001b[0;34m\u001b[0m\u001b[0m\n\u001b[0;32m----> 2\u001b[0;31m \u001b[0mt\u001b[0m\u001b[0;34m.\u001b[0m\u001b[0mlookupTransform\u001b[0m\u001b[0;34m(\u001b[0m\u001b[0;34m'THISFRAME'\u001b[0m\u001b[0;34m,\u001b[0m \u001b[0;34m'CHILD'\u001b[0m\u001b[0;34m,\u001b[0m \u001b[0mrospy\u001b[0m\u001b[0;34m.\u001b[0m\u001b[0mTime\u001b[0m\u001b[0;34m(\u001b[0m\u001b[0;36m1\u001b[0m\u001b[0;34m)\u001b[0m\u001b[0;34m)\u001b[0m\u001b[0;34m\u001b[0m\u001b[0m\n\u001b[0m",
      "\u001b[0;32m/opt/ros/melodic/lib/python2.7/dist-packages/tf/listener.pyc\u001b[0m in \u001b[0;36mlookupTransform\u001b[0;34m(self, target_frame, source_frame, time)\u001b[0m\n\u001b[1;32m    102\u001b[0m \u001b[0;34m\u001b[0m\u001b[0m\n\u001b[1;32m    103\u001b[0m     \u001b[0;32mdef\u001b[0m \u001b[0mlookupTransform\u001b[0m\u001b[0;34m(\u001b[0m\u001b[0mself\u001b[0m\u001b[0;34m,\u001b[0m \u001b[0mtarget_frame\u001b[0m\u001b[0;34m,\u001b[0m \u001b[0msource_frame\u001b[0m\u001b[0;34m,\u001b[0m \u001b[0mtime\u001b[0m\u001b[0;34m)\u001b[0m\u001b[0;34m:\u001b[0m\u001b[0;34m\u001b[0m\u001b[0m\n\u001b[0;32m--> 104\u001b[0;31m         \u001b[0mmsg\u001b[0m \u001b[0;34m=\u001b[0m \u001b[0mself\u001b[0m\u001b[0;34m.\u001b[0m\u001b[0m_buffer\u001b[0m\u001b[0;34m.\u001b[0m\u001b[0mlookup_transform\u001b[0m\u001b[0;34m(\u001b[0m\u001b[0mstrip_leading_slash\u001b[0m\u001b[0;34m(\u001b[0m\u001b[0mtarget_frame\u001b[0m\u001b[0;34m)\u001b[0m\u001b[0;34m,\u001b[0m \u001b[0mstrip_leading_slash\u001b[0m\u001b[0;34m(\u001b[0m\u001b[0msource_frame\u001b[0m\u001b[0;34m)\u001b[0m\u001b[0;34m,\u001b[0m \u001b[0mtime\u001b[0m\u001b[0;34m)\u001b[0m\u001b[0;34m\u001b[0m\u001b[0m\n\u001b[0m\u001b[1;32m    105\u001b[0m         \u001b[0mt\u001b[0m \u001b[0;34m=\u001b[0m \u001b[0mmsg\u001b[0m\u001b[0;34m.\u001b[0m\u001b[0mtransform\u001b[0m\u001b[0;34m.\u001b[0m\u001b[0mtranslation\u001b[0m\u001b[0;34m\u001b[0m\u001b[0m\n\u001b[1;32m    106\u001b[0m         \u001b[0mr\u001b[0m \u001b[0;34m=\u001b[0m \u001b[0mmsg\u001b[0m\u001b[0;34m.\u001b[0m\u001b[0mtransform\u001b[0m\u001b[0;34m.\u001b[0m\u001b[0mrotation\u001b[0m\u001b[0;34m\u001b[0m\u001b[0m\n",
      "\u001b[0;32m/opt/ros/melodic/lib/python2.7/dist-packages/tf2_ros/buffer.pyc\u001b[0m in \u001b[0;36mlookup_transform\u001b[0;34m(self, target_frame, source_frame, time, timeout)\u001b[0m\n\u001b[1;32m     85\u001b[0m \u001b[0;34m\u001b[0m\u001b[0m\n\u001b[1;32m     86\u001b[0m         \u001b[0mself\u001b[0m\u001b[0;34m.\u001b[0m\u001b[0mcan_transform\u001b[0m\u001b[0;34m(\u001b[0m\u001b[0mtarget_frame\u001b[0m\u001b[0;34m,\u001b[0m \u001b[0msource_frame\u001b[0m\u001b[0;34m,\u001b[0m \u001b[0mtime\u001b[0m\u001b[0;34m,\u001b[0m \u001b[0mtimeout\u001b[0m\u001b[0;34m)\u001b[0m\u001b[0;34m\u001b[0m\u001b[0m\n\u001b[0;32m---> 87\u001b[0;31m         \u001b[0;32mreturn\u001b[0m \u001b[0mself\u001b[0m\u001b[0;34m.\u001b[0m\u001b[0mlookup_transform_core\u001b[0m\u001b[0;34m(\u001b[0m\u001b[0mtarget_frame\u001b[0m\u001b[0;34m,\u001b[0m \u001b[0msource_frame\u001b[0m\u001b[0;34m,\u001b[0m \u001b[0mtime\u001b[0m\u001b[0;34m)\u001b[0m\u001b[0;34m\u001b[0m\u001b[0m\n\u001b[0m\u001b[1;32m     88\u001b[0m \u001b[0;34m\u001b[0m\u001b[0m\n\u001b[1;32m     89\u001b[0m     \u001b[0;32mdef\u001b[0m \u001b[0mlookup_transform_full\u001b[0m\u001b[0;34m(\u001b[0m\u001b[0mself\u001b[0m\u001b[0;34m,\u001b[0m \u001b[0mtarget_frame\u001b[0m\u001b[0;34m,\u001b[0m \u001b[0mtarget_time\u001b[0m\u001b[0;34m,\u001b[0m \u001b[0msource_frame\u001b[0m\u001b[0;34m,\u001b[0m \u001b[0msource_time\u001b[0m\u001b[0;34m,\u001b[0m \u001b[0mfixed_frame\u001b[0m\u001b[0;34m,\u001b[0m \u001b[0mtimeout\u001b[0m\u001b[0;34m=\u001b[0m\u001b[0mrospy\u001b[0m\u001b[0;34m.\u001b[0m\u001b[0mDuration\u001b[0m\u001b[0;34m(\u001b[0m\u001b[0;36m0.0\u001b[0m\u001b[0;34m)\u001b[0m\u001b[0;34m)\u001b[0m\u001b[0;34m:\u001b[0m\u001b[0;34m\u001b[0m\u001b[0m\n",
      "\u001b[0;31mExtrapolationException\u001b[0m: Lookup would require extrapolation into the future.  Requested time 1.000000000 but the latest data is at time 0.000000000, when looking up transform from frame [CHILD] to frame [THISFRAME]"
     ]
    }
   ],
   "source": [
    "# 時間1（未来時間）における位置。→ この時点では最新ではないのでエラーが出る。\n",
    "t.lookupTransform('THISFRAME', 'CHILD', rospy.Time(1))"
   ]
  },
  {
   "cell_type": "code",
   "execution_count": 8,
   "metadata": {},
   "outputs": [
    {
     "name": "stdout",
     "output_type": "stream",
     "text": [
      "header: \n",
      "  seq: 0\n",
      "  stamp: \n",
      "    secs: 4\n",
      "    nsecs:         0\n",
      "  frame_id: \"THISFRAME\"\n",
      "child_frame_id: \"CHILD\"\n",
      "transform: \n",
      "  translation: \n",
      "    x: 0.0\n",
      "    y: 1\n",
      "    z: 0.0\n",
      "  rotation: \n",
      "    x: 0.0\n",
      "    y: 0.0\n",
      "    z: 0.0\n",
      "    w: 1.0\n"
     ]
    }
   ],
   "source": [
    "# 時間4sにおけるTransform\n",
    "m2 = geometry_msgs.msg.TransformStamped()\n",
    "m2.header.frame_id = 'THISFRAME'\n",
    "m2.child_frame_id = 'CHILD'\n",
    "m2.transform.translation.y = 1\n",
    "m2.transform.rotation.w = 1.0 # これを入れないと無効なクォータニオンになってしまう。\n",
    "# Timestampのセット\n",
    "m2.header.stamp.set(secs=4,nsecs=0)\n",
    "print(m2)"
   ]
  },
  {
   "cell_type": "code",
   "execution_count": 9,
   "metadata": {},
   "outputs": [
    {
     "data": {
      "text/plain": [
       "rospy.Time[4000000000]"
      ]
     },
     "execution_count": 9,
     "metadata": {},
     "output_type": "execute_result"
    }
   ],
   "source": [
    "# TfにTransformを詰める\n",
    "t.setTransform(m2)\n",
    "# 'THISFRAME', 'CHILD'間の最新の時間を確認\n",
    "t.getLatestCommonTime('THISFRAME', 'CHILD')"
   ]
  },
  {
   "cell_type": "code",
   "execution_count": 10,
   "metadata": {},
   "outputs": [
    {
     "data": {
      "text/plain": [
       "([2.0387113725, 0.25, 0.0], [0.0, 0.0, 0.0, 1.0])"
      ]
     },
     "execution_count": 10,
     "metadata": {},
     "output_type": "execute_result"
    }
   ],
   "source": [
    "# 時間1（未来時間）における位置 → うまいこと補間されている。\n",
    "t.lookupTransform('THISFRAME', 'CHILD', rospy.Time(1))"
   ]
  },
  {
   "cell_type": "code",
   "execution_count": 11,
   "metadata": {},
   "outputs": [
    {
     "data": {
      "text/plain": [
       "True"
      ]
     },
     "execution_count": 11,
     "metadata": {},
     "output_type": "execute_result"
    }
   ],
   "source": [
    "# 時間の比較\n",
    "t.getLatestCommonTime('THISFRAME', 'CHILD') > rospy.Time(1.0)"
   ]
  },
  {
   "cell_type": "markdown",
   "metadata": {},
   "source": [
    "### 1-1 まとめ\n",
    "\n",
    "- tをtfのObjectとする。\n",
    "- `t.lookupTransform('PARENTFRAME', 'CHILD', rospy.Time(Time))`で適当な時間でのTransformの補間ができる。\n",
    "-  `t.getLatestCommonTime('THISFRAME', 'CHILD') > rospy.Time(知りたい時間)`がTrueなら取得できうる。"
   ]
  },
  {
   "cell_type": "markdown",
   "metadata": {},
   "source": [
    "## 1-2 TransformListener：Publishされている/tf情報を収集する。\n",
    "\n",
    "- 現実にはtfは手動で入れることはなくて，Publishされているtfを元に先程の操作を行うことが多い。\n",
    "- こいつのシミュレーションはちょっと面倒なのでSkip"
   ]
  },
  {
   "cell_type": "code",
   "execution_count": 13,
   "metadata": {},
   "outputs": [],
   "source": [
    "# init node needed\n",
    "rospy.init_node(\"test\", anonymous=True)\n",
    "tl=tf.TransformListener() "
   ]
  },
  {
   "cell_type": "code",
   "execution_count": 14,
   "metadata": {
    "scrolled": true
   },
   "outputs": [
    {
     "name": "stdout",
     "output_type": "stream",
     "text": [
      "1600145395592798948\n"
     ]
    }
   ],
   "source": [
    "# 有る時間の値が欲しい → 値が出るまで待機，実行\n",
    "# ちなみにこれは init_node()していないと動作しないので実行しないで\n",
    "now = rospy.Time.now()\n",
    "print(now)\n",
    "\n",
    "# tf が利用可能になるまで 1秒待つ。架空のframeなので実行不可。\n",
    "tl.waitForTransform(\"/frame1\",\"/frame2\",rospy.Duration(1.0))"
   ]
  },
  {
   "cell_type": "code",
   "execution_count": 36,
   "metadata": {},
   "outputs": [
    {
     "data": {
      "text/plain": [
       "'digraph G {\\n\"cam_d435i_1_link\" -> \"cam_d435i_1_depth_frame\"[label=\"Broadcaster: /play_1600147293913242491\\\\nAverage rate: 10000.000 Hz\\\\nMost recent transform: 0.000 \\\\nBuffer length: 0.000 sec\\\\n\"];\\n\"base_link\" -> \"cam_d435i_1_link\"[label=\"Broadcaster: /play_1600147293913242491\\\\nAverage rate: 10000.000 Hz\\\\nMost recent transform: 0.000 \\\\nBuffer length: 0.000 sec\\\\n\"];\\n\"cam_d435i_1_depth_frame\" -> \"cam_d435i_1_depth_optical_frame\"[label=\"Broadcaster: /play_1600147293913242491\\\\nAverage rate: 10000.000 Hz\\\\nMost recent transform: 0.000 \\\\nBuffer length: 0.000 sec\\\\n\"];\\n\"cam_d435i_1_link\" -> \"cam_d435i_1_color_frame\"[label=\"Broadcaster: /play_1600147293913242491\\\\nAverage rate: 10000.000 Hz\\\\nMost recent transform: 0.000 \\\\nBuffer length: 0.000 sec\\\\n\"];\\n\"cam_d435i_1_aligned_depth_to_color_frame\" -> \"cam_d435i_1_color_optical_frame\"[label=\"Broadcaster: /play_1600147293913242491\\\\nAverage rate: 10000.000 Hz\\\\nMost recent transform: 0.000 \\\\nBuffer length: 0.000 sec\\\\n\"];\\n\"cam_d435i_1_link\" -> \"cam_d435i_1_aligned_depth_to_color_frame\"[label=\"Broadcaster: /play_1600147293913242491\\\\nAverage rate: 10000.000 Hz\\\\nMost recent transform: 0.000 \\\\nBuffer length: 0.000 sec\\\\n\"];\\n\"cam_d435i_1_link\" -> \"cam_d435i_1_infra1_frame\"[label=\"Broadcaster: /play_1600147293913242491\\\\nAverage rate: 10000.000 Hz\\\\nMost recent transform: 0.000 \\\\nBuffer length: 0.000 sec\\\\n\"];\\n\"cam_d435i_1_aligned_depth_to_infra1_frame\" -> \"cam_d435i_1_infra1_optical_frame\"[label=\"Broadcaster: /play_1600147293913242491\\\\nAverage rate: 10000.000 Hz\\\\nMost recent transform: 0.000 \\\\nBuffer length: 0.000 sec\\\\n\"];\\n\"cam_d435i_1_link\" -> \"cam_d435i_1_aligned_depth_to_infra1_frame\"[label=\"Broadcaster: /play_1600147293913242491\\\\nAverage rate: 10000.000 Hz\\\\nMost recent transform: 0.000 \\\\nBuffer length: 0.000 sec\\\\n\"];\\n\"cam_d435i_1_link\" -> \"cam_d435i_1_infra2_frame\"[label=\"Broadcaster: /play_1600147293913242491\\\\nAverage rate: 10000.000 Hz\\\\nMost recent transform: 0.000 \\\\nBuffer length: 0.000 sec\\\\n\"];\\n\"cam_d435i_1_infra2_frame\" -> \"cam_d435i_1_infra2_optical_frame\"[label=\"Broadcaster: /play_1600147293913242491\\\\nAverage rate: 10000.000 Hz\\\\nMost recent transform: 0.000 \\\\nBuffer length: 0.000 sec\\\\n\"];\\n\"cam_d435i_1_link\" -> \"cam_d435i_1_gyro_frame\"[label=\"Broadcaster: /play_1600147293913242491\\\\nAverage rate: 10000.000 Hz\\\\nMost recent transform: 0.000 \\\\nBuffer length: 0.000 sec\\\\n\"];\\n\"cam_d435i_1_gyro_frame\" -> \"cam_d435i_1_gyro_optical_frame\"[label=\"Broadcaster: /play_1600147293913242491\\\\nAverage rate: 10000.000 Hz\\\\nMost recent transform: 0.000 \\\\nBuffer length: 0.000 sec\\\\n\"];\\n\"cam_d435i_1_link\" -> \"cam_d435i_1_accel_frame\"[label=\"Broadcaster: /play_1600147293913242491\\\\nAverage rate: 10000.000 Hz\\\\nMost recent transform: 0.000 \\\\nBuffer length: 0.000 sec\\\\n\"];\\n\"cam_d435i_1_accel_frame\" -> \"cam_d435i_1_accel_optical_frame\"[label=\"Broadcaster: /play_1600147293913242491\\\\nAverage rate: 10000.000 Hz\\\\nMost recent transform: 0.000 \\\\nBuffer length: 0.000 sec\\\\n\"];\\n\"cam_d435i_2_link\" -> \"cam_d435i_2_depth_frame\"[label=\"Broadcaster: /play_1600147293913242491\\\\nAverage rate: 10000.000 Hz\\\\nMost recent transform: 0.000 \\\\nBuffer length: 0.000 sec\\\\n\"];\\n\"base_link\" -> \"cam_d435i_2_link\"[label=\"Broadcaster: /play_1600147293913242491\\\\nAverage rate: 10000.000 Hz\\\\nMost recent transform: 0.000 \\\\nBuffer length: 0.000 sec\\\\n\"];\\n\"cam_d435i_2_depth_frame\" -> \"cam_d435i_2_depth_optical_frame\"[label=\"Broadcaster: /play_1600147293913242491\\\\nAverage rate: 10000.000 Hz\\\\nMost recent transform: 0.000 \\\\nBuffer length: 0.000 sec\\\\n\"];\\n\"cam_d435i_2_link\" -> \"cam_d435i_2_color_frame\"[label=\"Broadcaster: /play_1600147293913242491\\\\nAverage rate: 10000.000 Hz\\\\nMost recent transform: 0.000 \\\\nBuffer length: 0.000 sec\\\\n\"];\\n\"cam_d435i_2_aligned_depth_to_color_frame\" -> \"cam_d435i_2_color_optical_frame\"[label=\"Broadcaster: /play_1600147293913242491\\\\nAverage rate: 10000.000 Hz\\\\nMost recent transform: 0.000 \\\\nBuffer length: 0.000 sec\\\\n\"];\\n\"cam_d435i_2_link\" -> \"cam_d435i_2_aligned_depth_to_color_frame\"[label=\"Broadcaster: /play_1600147293913242491\\\\nAverage rate: 10000.000 Hz\\\\nMost recent transform: 0.000 \\\\nBuffer length: 0.000 sec\\\\n\"];\\n\"cam_d435i_2_link\" -> \"cam_d435i_2_infra1_frame\"[label=\"Broadcaster: /play_1600147293913242491\\\\nAverage rate: 10000.000 Hz\\\\nMost recent transform: 0.000 \\\\nBuffer length: 0.000 sec\\\\n\"];\\n\"cam_d435i_2_aligned_depth_to_infra1_frame\" -> \"cam_d435i_2_infra1_optical_frame\"[label=\"Broadcaster: /play_1600147293913242491\\\\nAverage rate: 10000.000 Hz\\\\nMost recent transform: 0.000 \\\\nBuffer length: 0.000 sec\\\\n\"];\\n\"cam_d435i_2_link\" -> \"cam_d435i_2_aligned_depth_to_infra1_frame\"[label=\"Broadcaster: /play_1600147293913242491\\\\nAverage rate: 10000.000 Hz\\\\nMost recent transform: 0.000 \\\\nBuffer length: 0.000 sec\\\\n\"];\\n\"cam_d435i_2_link\" -> \"cam_d435i_2_infra2_frame\"[label=\"Broadcaster: /play_1600147293913242491\\\\nAverage rate: 10000.000 Hz\\\\nMost recent transform: 0.000 \\\\nBuffer length: 0.000 sec\\\\n\"];\\n\"cam_d435i_2_infra2_frame\" -> \"cam_d435i_2_infra2_optical_frame\"[label=\"Broadcaster: /play_1600147293913242491\\\\nAverage rate: 10000.000 Hz\\\\nMost recent transform: 0.000 \\\\nBuffer length: 0.000 sec\\\\n\"];\\n\"cam_d435i_2_link\" -> \"cam_d435i_2_gyro_frame\"[label=\"Broadcaster: /play_1600147293913242491\\\\nAverage rate: 10000.000 Hz\\\\nMost recent transform: 0.000 \\\\nBuffer length: 0.000 sec\\\\n\"];\\n\"cam_d435i_2_gyro_frame\" -> \"cam_d435i_2_gyro_optical_frame\"[label=\"Broadcaster: /play_1600147293913242491\\\\nAverage rate: 10000.000 Hz\\\\nMost recent transform: 0.000 \\\\nBuffer length: 0.000 sec\\\\n\"];\\n\"cam_d435i_2_link\" -> \"cam_d435i_2_accel_frame\"[label=\"Broadcaster: /play_1600147293913242491\\\\nAverage rate: 10000.000 Hz\\\\nMost recent transform: 0.000 \\\\nBuffer length: 0.000 sec\\\\n\"];\\n\"cam_d435i_2_accel_frame\" -> \"cam_d435i_2_accel_optical_frame\"[label=\"Broadcaster: /play_1600147293913242491\\\\nAverage rate: 10000.000 Hz\\\\nMost recent transform: 0.000 \\\\nBuffer length: 0.000 sec\\\\n\"];\\n\"cam_d435i_3_link\" -> \"cam_d435i_3_depth_frame\"[label=\"Broadcaster: /play_1600147293913242491\\\\nAverage rate: 10000.000 Hz\\\\nMost recent transform: 0.000 \\\\nBuffer length: 0.000 sec\\\\n\"];\\n\"base_link\" -> \"cam_d435i_3_link\"[label=\"Broadcaster: /play_1600147293913242491\\\\nAverage rate: 10000.000 Hz\\\\nMost recent transform: 0.000 \\\\nBuffer length: 0.000 sec\\\\n\"];\\n\"cam_d435i_3_depth_frame\" -> \"cam_d435i_3_depth_optical_frame\"[label=\"Broadcaster: /play_1600147293913242491\\\\nAverage rate: 10000.000 Hz\\\\nMost recent transform: 0.000 \\\\nBuffer length: 0.000 sec\\\\n\"];\\n\"cam_d435i_3_link\" -> \"cam_d435i_3_color_frame\"[label=\"Broadcaster: /play_1600147293913242491\\\\nAverage rate: 10000.000 Hz\\\\nMost recent transform: 0.000 \\\\nBuffer length: 0.000 sec\\\\n\"];\\n\"cam_d435i_3_aligned_depth_to_color_frame\" -> \"cam_d435i_3_color_optical_frame\"[label=\"Broadcaster: /play_1600147293913242491\\\\nAverage rate: 10000.000 Hz\\\\nMost recent transform: 0.000 \\\\nBuffer length: 0.000 sec\\\\n\"];\\n\"cam_d435i_3_link\" -> \"cam_d435i_3_aligned_depth_to_color_frame\"[label=\"Broadcaster: /play_1600147293913242491\\\\nAverage rate: 10000.000 Hz\\\\nMost recent transform: 0.000 \\\\nBuffer length: 0.000 sec\\\\n\"];\\n\"cam_d435i_3_link\" -> \"cam_d435i_3_infra1_frame\"[label=\"Broadcaster: /play_1600147293913242491\\\\nAverage rate: 10000.000 Hz\\\\nMost recent transform: 0.000 \\\\nBuffer length: 0.000 sec\\\\n\"];\\n\"cam_d435i_3_aligned_depth_to_infra1_frame\" -> \"cam_d435i_3_infra1_optical_frame\"[label=\"Broadcaster: /play_1600147293913242491\\\\nAverage rate: 10000.000 Hz\\\\nMost recent transform: 0.000 \\\\nBuffer length: 0.000 sec\\\\n\"];\\n\"cam_d435i_3_link\" -> \"cam_d435i_3_aligned_depth_to_infra1_frame\"[label=\"Broadcaster: /play_1600147293913242491\\\\nAverage rate: 10000.000 Hz\\\\nMost recent transform: 0.000 \\\\nBuffer length: 0.000 sec\\\\n\"];\\n\"cam_d435i_3_link\" -> \"cam_d435i_3_infra2_frame\"[label=\"Broadcaster: /play_1600147293913242491\\\\nAverage rate: 10000.000 Hz\\\\nMost recent transform: 0.000 \\\\nBuffer length: 0.000 sec\\\\n\"];\\n\"cam_d435i_3_infra2_frame\" -> \"cam_d435i_3_infra2_optical_frame\"[label=\"Broadcaster: /play_1600147293913242491\\\\nAverage rate: 10000.000 Hz\\\\nMost recent transform: 0.000 \\\\nBuffer length: 0.000 sec\\\\n\"];\\n\"cam_d435i_3_link\" -> \"cam_d435i_3_gyro_frame\"[label=\"Broadcaster: /play_1600147293913242491\\\\nAverage rate: 10000.000 Hz\\\\nMost recent transform: 0.000 \\\\nBuffer length: 0.000 sec\\\\n\"];\\n\"cam_d435i_3_gyro_frame\" -> \"cam_d435i_3_gyro_optical_frame\"[label=\"Broadcaster: /play_1600147293913242491\\\\nAverage rate: 10000.000 Hz\\\\nMost recent transform: 0.000 \\\\nBuffer length: 0.000 sec\\\\n\"];\\n\"cam_d435i_3_link\" -> \"cam_d435i_3_accel_frame\"[label=\"Broadcaster: /play_1600147293913242491\\\\nAverage rate: 10000.000 Hz\\\\nMost recent transform: 0.000 \\\\nBuffer length: 0.000 sec\\\\n\"];\\n\"cam_d435i_3_accel_frame\" -> \"cam_d435i_3_accel_optical_frame\"[label=\"Broadcaster: /play_1600147293913242491\\\\nAverage rate: 10000.000 Hz\\\\nMost recent transform: 0.000 \\\\nBuffer length: 0.000 sec\\\\n\"];\\n\"cam_d435i_4_link\" -> \"cam_d435i_4_depth_frame\"[label=\"Broadcaster: /play_1600147293913242491\\\\nAverage rate: 10000.000 Hz\\\\nMost recent transform: 0.000 \\\\nBuffer length: 0.000 sec\\\\n\"];\\n\"base_link\" -> \"cam_d435i_4_link\"[label=\"Broadcaster: /play_1600147293913242491\\\\nAverage rate: 10000.000 Hz\\\\nMost recent transform: 0.000 \\\\nBuffer length: 0.000 sec\\\\n\"];\\n\"cam_d435i_4_depth_frame\" -> \"cam_d435i_4_depth_optical_frame\"[label=\"Broadcaster: /play_1600147293913242491\\\\nAverage rate: 10000.000 Hz\\\\nMost recent transform: 0.000 \\\\nBuffer length: 0.000 sec\\\\n\"];\\n\"cam_d435i_4_link\" -> \"cam_d435i_4_color_frame\"[label=\"Broadcaster: /play_1600147293913242491\\\\nAverage rate: 10000.000 Hz\\\\nMost recent transform: 0.000 \\\\nBuffer length: 0.000 sec\\\\n\"];\\n\"cam_d435i_4_aligned_depth_to_color_frame\" -> \"cam_d435i_4_color_optical_frame\"[label=\"Broadcaster: /play_1600147293913242491\\\\nAverage rate: 10000.000 Hz\\\\nMost recent transform: 0.000 \\\\nBuffer length: 0.000 sec\\\\n\"];\\n\"cam_d435i_4_link\" -> \"cam_d435i_4_aligned_depth_to_color_frame\"[label=\"Broadcaster: /play_1600147293913242491\\\\nAverage rate: 10000.000 Hz\\\\nMost recent transform: 0.000 \\\\nBuffer length: 0.000 sec\\\\n\"];\\n\"cam_d435i_4_link\" -> \"cam_d435i_4_infra1_frame\"[label=\"Broadcaster: /play_1600147293913242491\\\\nAverage rate: 10000.000 Hz\\\\nMost recent transform: 0.000 \\\\nBuffer length: 0.000 sec\\\\n\"];\\n\"cam_d435i_4_aligned_depth_to_infra1_frame\" -> \"cam_d435i_4_infra1_optical_frame\"[label=\"Broadcaster: /play_1600147293913242491\\\\nAverage rate: 10000.000 Hz\\\\nMost recent transform: 0.000 \\\\nBuffer length: 0.000 sec\\\\n\"];\\n\"cam_d435i_4_link\" -> \"cam_d435i_4_aligned_depth_to_infra1_frame\"[label=\"Broadcaster: /play_1600147293913242491\\\\nAverage rate: 10000.000 Hz\\\\nMost recent transform: 0.000 \\\\nBuffer length: 0.000 sec\\\\n\"];\\n\"cam_d435i_4_link\" -> \"cam_d435i_4_infra2_frame\"[label=\"Broadcaster: /play_1600147293913242491\\\\nAverage rate: 10000.000 Hz\\\\nMost recent transform: 0.000 \\\\nBuffer length: 0.000 sec\\\\n\"];\\n\"cam_d435i_4_infra2_frame\" -> \"cam_d435i_4_infra2_optical_frame\"[label=\"Broadcaster: /play_1600147293913242491\\\\nAverage rate: 10000.000 Hz\\\\nMost recent transform: 0.000 \\\\nBuffer length: 0.000 sec\\\\n\"];\\n\"cam_d435i_4_link\" -> \"cam_d435i_4_gyro_frame\"[label=\"Broadcaster: /play_1600147293913242491\\\\nAverage rate: 10000.000 Hz\\\\nMost recent transform: 0.000 \\\\nBuffer length: 0.000 sec\\\\n\"];\\n\"cam_d435i_4_gyro_frame\" -> \"cam_d435i_4_gyro_optical_frame\"[label=\"Broadcaster: /play_1600147293913242491\\\\nAverage rate: 10000.000 Hz\\\\nMost recent transform: 0.000 \\\\nBuffer length: 0.000 sec\\\\n\"];\\n\"cam_d435i_4_link\" -> \"cam_d435i_4_accel_frame\"[label=\"Broadcaster: /play_1600147293913242491\\\\nAverage rate: 10000.000 Hz\\\\nMost recent transform: 0.000 \\\\nBuffer length: 0.000 sec\\\\n\"];\\n\"cam_d435i_4_accel_frame\" -> \"cam_d435i_4_accel_optical_frame\"[label=\"Broadcaster: /play_1600147293913242491\\\\nAverage rate: 10000.000 Hz\\\\nMost recent transform: 0.000 \\\\nBuffer length: 0.000 sec\\\\n\"];\\n\"cam_t265_1_link\" -> \"cam_t265_1_fisheye1_frame\"[label=\"Broadcaster: /play_1600147293913242491\\\\nAverage rate: 10000.000 Hz\\\\nMost recent transform: 0.000 \\\\nBuffer length: 0.000 sec\\\\n\"];\\n\"cam_t265_1_pose_frame\" -> \"cam_t265_1_link\"[label=\"Broadcaster: /play_1600147293913242491\\\\nAverage rate: 10000.000 Hz\\\\nMost recent transform: 0.000 \\\\nBuffer length: 0.000 sec\\\\n\"];\\n\"cam_t265_1_fisheye1_frame\" -> \"cam_t265_1_fisheye1_optical_frame\"[label=\"Broadcaster: /play_1600147293913242491\\\\nAverage rate: 10000.000 Hz\\\\nMost recent transform: 0.000 \\\\nBuffer length: 0.000 sec\\\\n\"];\\n\"cam_t265_1_link\" -> \"cam_t265_1_fisheye2_frame\"[label=\"Broadcaster: /play_1600147293913242491\\\\nAverage rate: 10000.000 Hz\\\\nMost recent transform: 0.000 \\\\nBuffer length: 0.000 sec\\\\n\"];\\n\"cam_t265_1_fisheye2_frame\" -> \"cam_t265_1_fisheye2_optical_frame\"[label=\"Broadcaster: /play_1600147293913242491\\\\nAverage rate: 10000.000 Hz\\\\nMost recent transform: 0.000 \\\\nBuffer length: 0.000 sec\\\\n\"];\\n\"cam_t265_1_link\" -> \"cam_t265_1_gyro_frame\"[label=\"Broadcaster: /play_1600147293913242491\\\\nAverage rate: 10000.000 Hz\\\\nMost recent transform: 0.000 \\\\nBuffer length: 0.000 sec\\\\n\"];\\n\"cam_t265_1_gyro_frame\" -> \"cam_t265_1_gyro_optical_frame\"[label=\"Broadcaster: /play_1600147293913242491\\\\nAverage rate: 10000.000 Hz\\\\nMost recent transform: 0.000 \\\\nBuffer length: 0.000 sec\\\\n\"];\\n\"cam_t265_1_link\" -> \"cam_t265_1_accel_frame\"[label=\"Broadcaster: /play_1600147293913242491\\\\nAverage rate: 10000.000 Hz\\\\nMost recent transform: 0.000 \\\\nBuffer length: 0.000 sec\\\\n\"];\\n\"cam_t265_1_accel_frame\" -> \"cam_t265_1_accel_optical_frame\"[label=\"Broadcaster: /play_1600147293913242491\\\\nAverage rate: 10000.000 Hz\\\\nMost recent transform: 0.000 \\\\nBuffer length: 0.000 sec\\\\n\"];\\n\"cam_t265_1_odom_frame\" -> \"cam_t265_1_pose_frame\"[label=\"Broadcaster: /play_1600147293913242491\\\\nAverage rate: 200.337 Hz\\\\nMost recent transform: 1571812335.512 \\\\nBuffer length: 9.998 sec\\\\n\"];\\n\"local_origin\" -> \"local_origin_ned\"[label=\"Broadcaster: /play_1600147293913242491\\\\nAverage rate: 10000.000 Hz\\\\nMost recent transform: 0.000 \\\\nBuffer length: 0.000 sec\\\\n\"];\\n\"local_origin_ned\" -> \"fcu_frd\"[label=\"Broadcaster: /play_1600147293913242491\\\\nAverage rate: 10000.000 Hz\\\\nMost recent transform: 0.000 \\\\nBuffer length: 0.000 sec\\\\n\"];\\n\"cam_t265_1_pose_frame\" -> \"base_link\"[label=\"Broadcaster: /static_pose_base\\\\nAverage rate: 10000.000 Hz\\\\nMost recent transform: 0.000 \\\\nBuffer length: 0.000 sec\\\\n\"];\\n\"map\" -> \"odom\"[label=\"Broadcaster: /play_1600147293913242491\\\\nAverage rate: 10000.000 Hz\\\\nMost recent transform: 0.000 \\\\nBuffer length: 0.000 sec\\\\n\"];\\n\"odom\" -> \"cam_t265_1_odom_frame\"[label=\"Broadcaster: /static_odom_odom\\\\nAverage rate: 10000.000 Hz\\\\nMost recent transform: 0.000 \\\\nBuffer length: 0.000 sec\\\\n\"];\\n}'"
      ]
     },
     "execution_count": 36,
     "metadata": {},
     "output_type": "execute_result"
    }
   ],
   "source": [
    "# Show all frames that this node can access\n",
    "tl.allFramesAsDot()"
   ]
  },
  {
   "cell_type": "code",
   "execution_count": null,
   "metadata": {},
   "outputs": [],
   "source": []
  },
  {
   "cell_type": "markdown",
   "metadata": {},
   "source": [
    "## TFのBroadcast\n",
    "\n",
    "- これらの利点を享受するためにはPoseではなくTfとしてBroadcastするのが良い。\n"
   ]
  },
  {
   "cell_type": "code",
   "execution_count": 21,
   "metadata": {
    "scrolled": true
   },
   "outputs": [
    {
     "data": {
      "text/plain": [
       "header: \n",
       "  seq: 0\n",
       "  stamp: \n",
       "    secs: 0\n",
       "    nsecs:         0\n",
       "  frame_id: \"RobotPoseTest\"\n",
       "pose: \n",
       "  position: \n",
       "    x: 0.9\n",
       "    y: 0.3\n",
       "    z: 1.2\n",
       "  orientation: \n",
       "    x: 0.0\n",
       "    y: 0.0\n",
       "    z: 0.0\n",
       "    w: 1.0"
      ]
     },
     "execution_count": 21,
     "metadata": {},
     "output_type": "execute_result"
    }
   ],
   "source": [
    "#Poseの作成\n",
    "p = geometry_msgs.msg.PoseStamped()\n",
    "p.header.frame_id = \"RobotPoseTest\"\n",
    "p.pose.position.x = 0.90\n",
    "p.pose.position.y = 0.30\n",
    "p.pose.position.z = 1.2\n",
    "p.pose.orientation.x=0.0\n",
    "p.pose.orientation.y=0.0\n",
    "p.pose.orientation.z=0.0\n",
    "p.pose.orientation.w=1.0\n",
    "p"
   ]
  },
  {
   "cell_type": "markdown",
   "metadata": {},
   "source": [
    "- memo: StampとRos::Timeは同じ型"
   ]
  },
  {
   "cell_type": "code",
   "execution_count": 32,
   "metadata": {},
   "outputs": [],
   "source": [
    "# PoseのTransformへの変換\n",
    "child_frame = \"TestChildLink\"\n",
    "parent_frame = p.header.frame_id\n",
    "\n",
    "# Pose Broad caster\n",
    "br = tf.TransformBroadcaster()\n",
    "br.sendTransform(\n",
    "    (p.pose.position.x, p.pose.position.y, p.pose.position.z),\n",
    "    (p.pose.orientation.x, p.pose.orientation.y, p.pose.orientation.z, p.pose.orientation.w),\n",
    "    p.header.stamp,  \n",
    "    child_frame,    # maybe base_link\n",
    "    parent_frame    # equivalent of odom\n",
    "    )"
   ]
  },
  {
   "cell_type": "code",
   "execution_count": 35,
   "metadata": {},
   "outputs": [
    {
     "data": {
      "text/plain": [
       "'digraph G {\\n\"cam_d435i_1_link\" -> \"cam_d435i_1_depth_frame\"[label=\"Broadcaster: /play_1600147293913242491\\\\nAverage rate: 10000.000 Hz\\\\nMost recent transform: 0.000 \\\\nBuffer length: 0.000 sec\\\\n\"];\\n\"base_link\" -> \"cam_d435i_1_link\"[label=\"Broadcaster: /play_1600147293913242491\\\\nAverage rate: 10000.000 Hz\\\\nMost recent transform: 0.000 \\\\nBuffer length: 0.000 sec\\\\n\"];\\n\"cam_d435i_1_depth_frame\" -> \"cam_d435i_1_depth_optical_frame\"[label=\"Broadcaster: /play_1600147293913242491\\\\nAverage rate: 10000.000 Hz\\\\nMost recent transform: 0.000 \\\\nBuffer length: 0.000 sec\\\\n\"];\\n\"cam_d435i_1_link\" -> \"cam_d435i_1_color_frame\"[label=\"Broadcaster: /play_1600147293913242491\\\\nAverage rate: 10000.000 Hz\\\\nMost recent transform: 0.000 \\\\nBuffer length: 0.000 sec\\\\n\"];\\n\"cam_d435i_1_aligned_depth_to_color_frame\" -> \"cam_d435i_1_color_optical_frame\"[label=\"Broadcaster: /play_1600147293913242491\\\\nAverage rate: 10000.000 Hz\\\\nMost recent transform: 0.000 \\\\nBuffer length: 0.000 sec\\\\n\"];\\n\"cam_d435i_1_link\" -> \"cam_d435i_1_aligned_depth_to_color_frame\"[label=\"Broadcaster: /play_1600147293913242491\\\\nAverage rate: 10000.000 Hz\\\\nMost recent transform: 0.000 \\\\nBuffer length: 0.000 sec\\\\n\"];\\n\"cam_d435i_1_link\" -> \"cam_d435i_1_infra1_frame\"[label=\"Broadcaster: /play_1600147293913242491\\\\nAverage rate: 10000.000 Hz\\\\nMost recent transform: 0.000 \\\\nBuffer length: 0.000 sec\\\\n\"];\\n\"cam_d435i_1_aligned_depth_to_infra1_frame\" -> \"cam_d435i_1_infra1_optical_frame\"[label=\"Broadcaster: /play_1600147293913242491\\\\nAverage rate: 10000.000 Hz\\\\nMost recent transform: 0.000 \\\\nBuffer length: 0.000 sec\\\\n\"];\\n\"cam_d435i_1_link\" -> \"cam_d435i_1_aligned_depth_to_infra1_frame\"[label=\"Broadcaster: /play_1600147293913242491\\\\nAverage rate: 10000.000 Hz\\\\nMost recent transform: 0.000 \\\\nBuffer length: 0.000 sec\\\\n\"];\\n\"cam_d435i_1_link\" -> \"cam_d435i_1_infra2_frame\"[label=\"Broadcaster: /play_1600147293913242491\\\\nAverage rate: 10000.000 Hz\\\\nMost recent transform: 0.000 \\\\nBuffer length: 0.000 sec\\\\n\"];\\n\"cam_d435i_1_infra2_frame\" -> \"cam_d435i_1_infra2_optical_frame\"[label=\"Broadcaster: /play_1600147293913242491\\\\nAverage rate: 10000.000 Hz\\\\nMost recent transform: 0.000 \\\\nBuffer length: 0.000 sec\\\\n\"];\\n\"cam_d435i_1_link\" -> \"cam_d435i_1_gyro_frame\"[label=\"Broadcaster: /play_1600147293913242491\\\\nAverage rate: 10000.000 Hz\\\\nMost recent transform: 0.000 \\\\nBuffer length: 0.000 sec\\\\n\"];\\n\"cam_d435i_1_gyro_frame\" -> \"cam_d435i_1_gyro_optical_frame\"[label=\"Broadcaster: /play_1600147293913242491\\\\nAverage rate: 10000.000 Hz\\\\nMost recent transform: 0.000 \\\\nBuffer length: 0.000 sec\\\\n\"];\\n\"cam_d435i_1_link\" -> \"cam_d435i_1_accel_frame\"[label=\"Broadcaster: /play_1600147293913242491\\\\nAverage rate: 10000.000 Hz\\\\nMost recent transform: 0.000 \\\\nBuffer length: 0.000 sec\\\\n\"];\\n\"cam_d435i_1_accel_frame\" -> \"cam_d435i_1_accel_optical_frame\"[label=\"Broadcaster: /play_1600147293913242491\\\\nAverage rate: 10000.000 Hz\\\\nMost recent transform: 0.000 \\\\nBuffer length: 0.000 sec\\\\n\"];\\n\"cam_d435i_2_link\" -> \"cam_d435i_2_depth_frame\"[label=\"Broadcaster: /play_1600147293913242491\\\\nAverage rate: 10000.000 Hz\\\\nMost recent transform: 0.000 \\\\nBuffer length: 0.000 sec\\\\n\"];\\n\"base_link\" -> \"cam_d435i_2_link\"[label=\"Broadcaster: /play_1600147293913242491\\\\nAverage rate: 10000.000 Hz\\\\nMost recent transform: 0.000 \\\\nBuffer length: 0.000 sec\\\\n\"];\\n\"cam_d435i_2_depth_frame\" -> \"cam_d435i_2_depth_optical_frame\"[label=\"Broadcaster: /play_1600147293913242491\\\\nAverage rate: 10000.000 Hz\\\\nMost recent transform: 0.000 \\\\nBuffer length: 0.000 sec\\\\n\"];\\n\"cam_d435i_2_link\" -> \"cam_d435i_2_color_frame\"[label=\"Broadcaster: /play_1600147293913242491\\\\nAverage rate: 10000.000 Hz\\\\nMost recent transform: 0.000 \\\\nBuffer length: 0.000 sec\\\\n\"];\\n\"cam_d435i_2_aligned_depth_to_color_frame\" -> \"cam_d435i_2_color_optical_frame\"[label=\"Broadcaster: /play_1600147293913242491\\\\nAverage rate: 10000.000 Hz\\\\nMost recent transform: 0.000 \\\\nBuffer length: 0.000 sec\\\\n\"];\\n\"cam_d435i_2_link\" -> \"cam_d435i_2_aligned_depth_to_color_frame\"[label=\"Broadcaster: /play_1600147293913242491\\\\nAverage rate: 10000.000 Hz\\\\nMost recent transform: 0.000 \\\\nBuffer length: 0.000 sec\\\\n\"];\\n\"cam_d435i_2_link\" -> \"cam_d435i_2_infra1_frame\"[label=\"Broadcaster: /play_1600147293913242491\\\\nAverage rate: 10000.000 Hz\\\\nMost recent transform: 0.000 \\\\nBuffer length: 0.000 sec\\\\n\"];\\n\"cam_d435i_2_aligned_depth_to_infra1_frame\" -> \"cam_d435i_2_infra1_optical_frame\"[label=\"Broadcaster: /play_1600147293913242491\\\\nAverage rate: 10000.000 Hz\\\\nMost recent transform: 0.000 \\\\nBuffer length: 0.000 sec\\\\n\"];\\n\"cam_d435i_2_link\" -> \"cam_d435i_2_aligned_depth_to_infra1_frame\"[label=\"Broadcaster: /play_1600147293913242491\\\\nAverage rate: 10000.000 Hz\\\\nMost recent transform: 0.000 \\\\nBuffer length: 0.000 sec\\\\n\"];\\n\"cam_d435i_2_link\" -> \"cam_d435i_2_infra2_frame\"[label=\"Broadcaster: /play_1600147293913242491\\\\nAverage rate: 10000.000 Hz\\\\nMost recent transform: 0.000 \\\\nBuffer length: 0.000 sec\\\\n\"];\\n\"cam_d435i_2_infra2_frame\" -> \"cam_d435i_2_infra2_optical_frame\"[label=\"Broadcaster: /play_1600147293913242491\\\\nAverage rate: 10000.000 Hz\\\\nMost recent transform: 0.000 \\\\nBuffer length: 0.000 sec\\\\n\"];\\n\"cam_d435i_2_link\" -> \"cam_d435i_2_gyro_frame\"[label=\"Broadcaster: /play_1600147293913242491\\\\nAverage rate: 10000.000 Hz\\\\nMost recent transform: 0.000 \\\\nBuffer length: 0.000 sec\\\\n\"];\\n\"cam_d435i_2_gyro_frame\" -> \"cam_d435i_2_gyro_optical_frame\"[label=\"Broadcaster: /play_1600147293913242491\\\\nAverage rate: 10000.000 Hz\\\\nMost recent transform: 0.000 \\\\nBuffer length: 0.000 sec\\\\n\"];\\n\"cam_d435i_2_link\" -> \"cam_d435i_2_accel_frame\"[label=\"Broadcaster: /play_1600147293913242491\\\\nAverage rate: 10000.000 Hz\\\\nMost recent transform: 0.000 \\\\nBuffer length: 0.000 sec\\\\n\"];\\n\"cam_d435i_2_accel_frame\" -> \"cam_d435i_2_accel_optical_frame\"[label=\"Broadcaster: /play_1600147293913242491\\\\nAverage rate: 10000.000 Hz\\\\nMost recent transform: 0.000 \\\\nBuffer length: 0.000 sec\\\\n\"];\\n\"cam_d435i_3_link\" -> \"cam_d435i_3_depth_frame\"[label=\"Broadcaster: /play_1600147293913242491\\\\nAverage rate: 10000.000 Hz\\\\nMost recent transform: 0.000 \\\\nBuffer length: 0.000 sec\\\\n\"];\\n\"base_link\" -> \"cam_d435i_3_link\"[label=\"Broadcaster: /play_1600147293913242491\\\\nAverage rate: 10000.000 Hz\\\\nMost recent transform: 0.000 \\\\nBuffer length: 0.000 sec\\\\n\"];\\n\"cam_d435i_3_depth_frame\" -> \"cam_d435i_3_depth_optical_frame\"[label=\"Broadcaster: /play_1600147293913242491\\\\nAverage rate: 10000.000 Hz\\\\nMost recent transform: 0.000 \\\\nBuffer length: 0.000 sec\\\\n\"];\\n\"cam_d435i_3_link\" -> \"cam_d435i_3_color_frame\"[label=\"Broadcaster: /play_1600147293913242491\\\\nAverage rate: 10000.000 Hz\\\\nMost recent transform: 0.000 \\\\nBuffer length: 0.000 sec\\\\n\"];\\n\"cam_d435i_3_aligned_depth_to_color_frame\" -> \"cam_d435i_3_color_optical_frame\"[label=\"Broadcaster: /play_1600147293913242491\\\\nAverage rate: 10000.000 Hz\\\\nMost recent transform: 0.000 \\\\nBuffer length: 0.000 sec\\\\n\"];\\n\"cam_d435i_3_link\" -> \"cam_d435i_3_aligned_depth_to_color_frame\"[label=\"Broadcaster: /play_1600147293913242491\\\\nAverage rate: 10000.000 Hz\\\\nMost recent transform: 0.000 \\\\nBuffer length: 0.000 sec\\\\n\"];\\n\"cam_d435i_3_link\" -> \"cam_d435i_3_infra1_frame\"[label=\"Broadcaster: /play_1600147293913242491\\\\nAverage rate: 10000.000 Hz\\\\nMost recent transform: 0.000 \\\\nBuffer length: 0.000 sec\\\\n\"];\\n\"cam_d435i_3_aligned_depth_to_infra1_frame\" -> \"cam_d435i_3_infra1_optical_frame\"[label=\"Broadcaster: /play_1600147293913242491\\\\nAverage rate: 10000.000 Hz\\\\nMost recent transform: 0.000 \\\\nBuffer length: 0.000 sec\\\\n\"];\\n\"cam_d435i_3_link\" -> \"cam_d435i_3_aligned_depth_to_infra1_frame\"[label=\"Broadcaster: /play_1600147293913242491\\\\nAverage rate: 10000.000 Hz\\\\nMost recent transform: 0.000 \\\\nBuffer length: 0.000 sec\\\\n\"];\\n\"cam_d435i_3_link\" -> \"cam_d435i_3_infra2_frame\"[label=\"Broadcaster: /play_1600147293913242491\\\\nAverage rate: 10000.000 Hz\\\\nMost recent transform: 0.000 \\\\nBuffer length: 0.000 sec\\\\n\"];\\n\"cam_d435i_3_infra2_frame\" -> \"cam_d435i_3_infra2_optical_frame\"[label=\"Broadcaster: /play_1600147293913242491\\\\nAverage rate: 10000.000 Hz\\\\nMost recent transform: 0.000 \\\\nBuffer length: 0.000 sec\\\\n\"];\\n\"cam_d435i_3_link\" -> \"cam_d435i_3_gyro_frame\"[label=\"Broadcaster: /play_1600147293913242491\\\\nAverage rate: 10000.000 Hz\\\\nMost recent transform: 0.000 \\\\nBuffer length: 0.000 sec\\\\n\"];\\n\"cam_d435i_3_gyro_frame\" -> \"cam_d435i_3_gyro_optical_frame\"[label=\"Broadcaster: /play_1600147293913242491\\\\nAverage rate: 10000.000 Hz\\\\nMost recent transform: 0.000 \\\\nBuffer length: 0.000 sec\\\\n\"];\\n\"cam_d435i_3_link\" -> \"cam_d435i_3_accel_frame\"[label=\"Broadcaster: /play_1600147293913242491\\\\nAverage rate: 10000.000 Hz\\\\nMost recent transform: 0.000 \\\\nBuffer length: 0.000 sec\\\\n\"];\\n\"cam_d435i_3_accel_frame\" -> \"cam_d435i_3_accel_optical_frame\"[label=\"Broadcaster: /play_1600147293913242491\\\\nAverage rate: 10000.000 Hz\\\\nMost recent transform: 0.000 \\\\nBuffer length: 0.000 sec\\\\n\"];\\n\"cam_d435i_4_link\" -> \"cam_d435i_4_depth_frame\"[label=\"Broadcaster: /play_1600147293913242491\\\\nAverage rate: 10000.000 Hz\\\\nMost recent transform: 0.000 \\\\nBuffer length: 0.000 sec\\\\n\"];\\n\"base_link\" -> \"cam_d435i_4_link\"[label=\"Broadcaster: /play_1600147293913242491\\\\nAverage rate: 10000.000 Hz\\\\nMost recent transform: 0.000 \\\\nBuffer length: 0.000 sec\\\\n\"];\\n\"cam_d435i_4_depth_frame\" -> \"cam_d435i_4_depth_optical_frame\"[label=\"Broadcaster: /play_1600147293913242491\\\\nAverage rate: 10000.000 Hz\\\\nMost recent transform: 0.000 \\\\nBuffer length: 0.000 sec\\\\n\"];\\n\"cam_d435i_4_link\" -> \"cam_d435i_4_color_frame\"[label=\"Broadcaster: /play_1600147293913242491\\\\nAverage rate: 10000.000 Hz\\\\nMost recent transform: 0.000 \\\\nBuffer length: 0.000 sec\\\\n\"];\\n\"cam_d435i_4_aligned_depth_to_color_frame\" -> \"cam_d435i_4_color_optical_frame\"[label=\"Broadcaster: /play_1600147293913242491\\\\nAverage rate: 10000.000 Hz\\\\nMost recent transform: 0.000 \\\\nBuffer length: 0.000 sec\\\\n\"];\\n\"cam_d435i_4_link\" -> \"cam_d435i_4_aligned_depth_to_color_frame\"[label=\"Broadcaster: /play_1600147293913242491\\\\nAverage rate: 10000.000 Hz\\\\nMost recent transform: 0.000 \\\\nBuffer length: 0.000 sec\\\\n\"];\\n\"cam_d435i_4_link\" -> \"cam_d435i_4_infra1_frame\"[label=\"Broadcaster: /play_1600147293913242491\\\\nAverage rate: 10000.000 Hz\\\\nMost recent transform: 0.000 \\\\nBuffer length: 0.000 sec\\\\n\"];\\n\"cam_d435i_4_aligned_depth_to_infra1_frame\" -> \"cam_d435i_4_infra1_optical_frame\"[label=\"Broadcaster: /play_1600147293913242491\\\\nAverage rate: 10000.000 Hz\\\\nMost recent transform: 0.000 \\\\nBuffer length: 0.000 sec\\\\n\"];\\n\"cam_d435i_4_link\" -> \"cam_d435i_4_aligned_depth_to_infra1_frame\"[label=\"Broadcaster: /play_1600147293913242491\\\\nAverage rate: 10000.000 Hz\\\\nMost recent transform: 0.000 \\\\nBuffer length: 0.000 sec\\\\n\"];\\n\"cam_d435i_4_link\" -> \"cam_d435i_4_infra2_frame\"[label=\"Broadcaster: /play_1600147293913242491\\\\nAverage rate: 10000.000 Hz\\\\nMost recent transform: 0.000 \\\\nBuffer length: 0.000 sec\\\\n\"];\\n\"cam_d435i_4_infra2_frame\" -> \"cam_d435i_4_infra2_optical_frame\"[label=\"Broadcaster: /play_1600147293913242491\\\\nAverage rate: 10000.000 Hz\\\\nMost recent transform: 0.000 \\\\nBuffer length: 0.000 sec\\\\n\"];\\n\"cam_d435i_4_link\" -> \"cam_d435i_4_gyro_frame\"[label=\"Broadcaster: /play_1600147293913242491\\\\nAverage rate: 10000.000 Hz\\\\nMost recent transform: 0.000 \\\\nBuffer length: 0.000 sec\\\\n\"];\\n\"cam_d435i_4_gyro_frame\" -> \"cam_d435i_4_gyro_optical_frame\"[label=\"Broadcaster: /play_1600147293913242491\\\\nAverage rate: 10000.000 Hz\\\\nMost recent transform: 0.000 \\\\nBuffer length: 0.000 sec\\\\n\"];\\n\"cam_d435i_4_link\" -> \"cam_d435i_4_accel_frame\"[label=\"Broadcaster: /play_1600147293913242491\\\\nAverage rate: 10000.000 Hz\\\\nMost recent transform: 0.000 \\\\nBuffer length: 0.000 sec\\\\n\"];\\n\"cam_d435i_4_accel_frame\" -> \"cam_d435i_4_accel_optical_frame\"[label=\"Broadcaster: /play_1600147293913242491\\\\nAverage rate: 10000.000 Hz\\\\nMost recent transform: 0.000 \\\\nBuffer length: 0.000 sec\\\\n\"];\\n\"cam_t265_1_link\" -> \"cam_t265_1_fisheye1_frame\"[label=\"Broadcaster: /play_1600147293913242491\\\\nAverage rate: 10000.000 Hz\\\\nMost recent transform: 0.000 \\\\nBuffer length: 0.000 sec\\\\n\"];\\n\"cam_t265_1_pose_frame\" -> \"cam_t265_1_link\"[label=\"Broadcaster: /play_1600147293913242491\\\\nAverage rate: 10000.000 Hz\\\\nMost recent transform: 0.000 \\\\nBuffer length: 0.000 sec\\\\n\"];\\n\"cam_t265_1_fisheye1_frame\" -> \"cam_t265_1_fisheye1_optical_frame\"[label=\"Broadcaster: /play_1600147293913242491\\\\nAverage rate: 10000.000 Hz\\\\nMost recent transform: 0.000 \\\\nBuffer length: 0.000 sec\\\\n\"];\\n\"cam_t265_1_link\" -> \"cam_t265_1_fisheye2_frame\"[label=\"Broadcaster: /play_1600147293913242491\\\\nAverage rate: 10000.000 Hz\\\\nMost recent transform: 0.000 \\\\nBuffer length: 0.000 sec\\\\n\"];\\n\"cam_t265_1_fisheye2_frame\" -> \"cam_t265_1_fisheye2_optical_frame\"[label=\"Broadcaster: /play_1600147293913242491\\\\nAverage rate: 10000.000 Hz\\\\nMost recent transform: 0.000 \\\\nBuffer length: 0.000 sec\\\\n\"];\\n\"cam_t265_1_link\" -> \"cam_t265_1_gyro_frame\"[label=\"Broadcaster: /play_1600147293913242491\\\\nAverage rate: 10000.000 Hz\\\\nMost recent transform: 0.000 \\\\nBuffer length: 0.000 sec\\\\n\"];\\n\"cam_t265_1_gyro_frame\" -> \"cam_t265_1_gyro_optical_frame\"[label=\"Broadcaster: /play_1600147293913242491\\\\nAverage rate: 10000.000 Hz\\\\nMost recent transform: 0.000 \\\\nBuffer length: 0.000 sec\\\\n\"];\\n\"cam_t265_1_link\" -> \"cam_t265_1_accel_frame\"[label=\"Broadcaster: /play_1600147293913242491\\\\nAverage rate: 10000.000 Hz\\\\nMost recent transform: 0.000 \\\\nBuffer length: 0.000 sec\\\\n\"];\\n\"cam_t265_1_accel_frame\" -> \"cam_t265_1_accel_optical_frame\"[label=\"Broadcaster: /play_1600147293913242491\\\\nAverage rate: 10000.000 Hz\\\\nMost recent transform: 0.000 \\\\nBuffer length: 0.000 sec\\\\n\"];\\n\"cam_t265_1_odom_frame\" -> \"cam_t265_1_pose_frame\"[label=\"Broadcaster: /play_1600147293913242491\\\\nAverage rate: 200.337 Hz\\\\nMost recent transform: 1571812335.512 \\\\nBuffer length: 9.998 sec\\\\n\"];\\n\"local_origin\" -> \"local_origin_ned\"[label=\"Broadcaster: /play_1600147293913242491\\\\nAverage rate: 10000.000 Hz\\\\nMost recent transform: 0.000 \\\\nBuffer length: 0.000 sec\\\\n\"];\\n\"local_origin_ned\" -> \"fcu_frd\"[label=\"Broadcaster: /play_1600147293913242491\\\\nAverage rate: 10000.000 Hz\\\\nMost recent transform: 0.000 \\\\nBuffer length: 0.000 sec\\\\n\"];\\n\"cam_t265_1_pose_frame\" -> \"base_link\"[label=\"Broadcaster: /static_pose_base\\\\nAverage rate: 10000.000 Hz\\\\nMost recent transform: 0.000 \\\\nBuffer length: 0.000 sec\\\\n\"];\\n\"map\" -> \"odom\"[label=\"Broadcaster: /play_1600147293913242491\\\\nAverage rate: 10000.000 Hz\\\\nMost recent transform: 0.000 \\\\nBuffer length: 0.000 sec\\\\n\"];\\n\"odom\" -> \"cam_t265_1_odom_frame\"[label=\"Broadcaster: /static_odom_odom\\\\nAverage rate: 10000.000 Hz\\\\nMost recent transform: 0.000 \\\\nBuffer length: 0.000 sec\\\\n\"];\\n}'"
      ]
     },
     "execution_count": 35,
     "metadata": {},
     "output_type": "execute_result"
    }
   ],
   "source": []
  },
  {
   "cell_type": "code",
   "execution_count": null,
   "metadata": {},
   "outputs": [],
   "source": []
  },
  {
   "cell_type": "markdown",
   "metadata": {},
   "source": [
    "# 2 tf:Transformations\n",
    "- tf.transformations 以下に存在する諸々のパッケージ [Wiki](http://wiki.ros.org/tf/Overview/Transformations)\n",
    "- Tfをもちいた同次変換（Homogeneous Transformation）\n",
    "- Tfを用いた座標変換"
   ]
  },
  {
   "cell_type": "markdown",
   "metadata": {},
   "source": [
    "### TF同士の足し引き？\n",
    "\n",
    "同次変換行列に変換後，行列の掛け算にて実施できる。"
   ]
  },
  {
   "cell_type": "code",
   "execution_count": 15,
   "metadata": {},
   "outputs": [
    {
     "name": "stderr",
     "output_type": "stream",
     "text": [
      "Exception AttributeError: \"TransformListener instance has no attribute 'tf_sub'\" in <bound method TransformListener.__del__ of <tf2_ros.transform_listener.TransformListener instance at 0x7f777ca76370>> ignored\n"
     ]
    },
    {
     "ename": "TypeError",
     "evalue": "unsupported operand type(s) for +: 'TransformStamped' and 'TransformStamped'",
     "output_type": "error",
     "traceback": [
      "\u001b[0;31m---------------------------------------------------------------------------\u001b[0m",
      "\u001b[0;31mTypeError\u001b[0m                                 Traceback (most recent call last)",
      "\u001b[0;32m<ipython-input-15-5cfafcd040dc>\u001b[0m in \u001b[0;36m<module>\u001b[0;34m()\u001b[0m\n\u001b[0;32m----> 1\u001b[0;31m \u001b[0mm\u001b[0m\u001b[0;34m+\u001b[0m\u001b[0mm2\u001b[0m\u001b[0;34m\u001b[0m\u001b[0m\n\u001b[0m",
      "\u001b[0;31mTypeError\u001b[0m: unsupported operand type(s) for +: 'TransformStamped' and 'TransformStamped'"
     ]
    }
   ],
   "source": [
    "# m+m2 みたいな計算はできない。\n"
   ]
  },
  {
   "cell_type": "code",
   "execution_count": null,
   "metadata": {},
   "outputs": [],
   "source": []
  },
  {
   "cell_type": "code",
   "execution_count": 16,
   "metadata": {},
   "outputs": [
    {
     "ename": "AttributeError",
     "evalue": "'module' object has no attribute 'poseMsg2ToTF'",
     "output_type": "error",
     "traceback": [
      "\u001b[0;31m---------------------------------------------------------------------------\u001b[0m",
      "\u001b[0;31mAttributeError\u001b[0m                            Traceback (most recent call last)",
      "\u001b[0;32m<ipython-input-16-cad9048a4c49>\u001b[0m in \u001b[0;36m<module>\u001b[0;34m()\u001b[0m\n\u001b[0;32m----> 1\u001b[0;31m \u001b[0mtf\u001b[0m\u001b[0;34m.\u001b[0m\u001b[0mposeMsg2ToTF\u001b[0m\u001b[0;34m\u001b[0m\u001b[0m\n\u001b[0m",
      "\u001b[0;31mAttributeError\u001b[0m: 'module' object has no attribute 'poseMsg2ToTF'"
     ]
    }
   ],
   "source": [
    "tf.transformations."
   ]
  },
  {
   "cell_type": "markdown",
   "metadata": {},
   "source": [
    "## Poseと戯れる"
   ]
  },
  {
   "cell_type": "code",
   "execution_count": 19,
   "metadata": {},
   "outputs": [
    {
     "data": {
      "text/plain": [
       "header: \n",
       "  seq: 0\n",
       "  stamp: \n",
       "    secs: 0\n",
       "    nsecs:         0\n",
       "  frame_id: \"Robot\"\n",
       "pose: \n",
       "  position: \n",
       "    x: 0.9\n",
       "    y: 0.3\n",
       "    z: 1.2\n",
       "  orientation: \n",
       "    x: 0.0\n",
       "    y: 0.0\n",
       "    z: 0.0\n",
       "    w: 1.0"
      ]
     },
     "execution_count": 19,
     "metadata": {},
     "output_type": "execute_result"
    }
   ],
   "source": [
    "#This is object2\n",
    "p = geometry_msgs.msg.PoseStamped()\n",
    "p.header.frame_id = \"Robot\"\n",
    "p.pose.position.x = 0.90\n",
    "p.pose.position.y = 0.30\n",
    "p.pose.position.z = 1.2\n",
    "p.pose.orientation.x=0.0\n",
    "p.pose.orientation.y=0.0\n",
    "p.pose.orientation.z=0.0\n",
    "p.pose.orientation.w=1.0\n",
    "p"
   ]
  },
  {
   "cell_type": "code",
   "execution_count": null,
   "metadata": {},
   "outputs": [],
   "source": []
  }
 ],
 "metadata": {
  "kernelspec": {
   "display_name": "Python 2",
   "language": "python",
   "name": "python2"
  },
  "language_info": {
   "codemirror_mode": {
    "name": "ipython",
    "version": 2
   },
   "file_extension": ".py",
   "mimetype": "text/x-python",
   "name": "python",
   "nbconvert_exporter": "python",
   "pygments_lexer": "ipython2",
   "version": "2.7.17"
  }
 },
 "nbformat": 4,
 "nbformat_minor": 2
}
